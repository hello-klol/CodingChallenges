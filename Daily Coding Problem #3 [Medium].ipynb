{
 "cells": [
  {
   "cell_type": "markdown",
   "metadata": {},
   "source": [
    "<blockquote>\n",
    "    <p>\n",
    "This problem was asked by Google.\n",
    "    </p>\n",
    "    <p>\n",
    "Given the root to a binary tree, implement serialize(root), which serializes the tree into a string, and deserialize(s), which deserializes the string back into the tree.\n",
    "    </p>\n",
    "    <p>\n",
    "For example, given the following Node class\n",
    "    </p>\n",
    "    </blockquote>"
   ]
  },
  {
   "cell_type": "code",
   "execution_count": 1,
   "metadata": {},
   "outputs": [],
   "source": [
    "class Node:\n",
    "    def __init__(self, val, left=None, right=None):\n",
    "        self.val = val\n",
    "        self.left = left\n",
    "        self.right = right"
   ]
  },
  {
   "cell_type": "markdown",
   "metadata": {},
   "source": [
    "https://en.wikipedia.org/wiki/Binary_tree#Arrays\n",
    "\n",
    "If a node has an index $i$, its children are found at indices ${2 i + 1}$ (for the left child) and ${2 i + 2}$  (for the right), while its parent (if any) is found at index ${⌊ \\frac {i − 1}{2} ⌋}$ (assuming the root has index zero)."
   ]
  },
  {
   "cell_type": "code",
   "execution_count": 2,
   "metadata": {},
   "outputs": [],
   "source": [
    "import json"
   ]
  },
  {
   "cell_type": "code",
   "execution_count": 3,
   "metadata": {},
   "outputs": [],
   "source": [
    "def s_recur(n, n_idx):\n",
    "    if not n:\n",
    "        return {}\n",
    "    \n",
    "    serialized = {\n",
    "        n_idx: n.val, \n",
    "        2*n_idx+1: n.left, \n",
    "        2*n_idx+2: n.right\n",
    "    }\n",
    "    \n",
    "    serialized.update(s_recur(n.left, 2*n_idx+1))\n",
    "    serialized.update(s_recur(n.right, 2*n_idx+2))\n",
    "    \n",
    "    return serialized"
   ]
  },
  {
   "cell_type": "code",
   "execution_count": 4,
   "metadata": {},
   "outputs": [],
   "source": [
    "def serialize(root):\n",
    "    return json.dumps(s_recur(root, 0))"
   ]
  },
  {
   "cell_type": "code",
   "execution_count": 5,
   "metadata": {},
   "outputs": [],
   "source": [
    "def d_recur(n_idx, ser):\n",
    "    try:\n",
    "        return Node(\n",
    "            ser[str(n_idx)], \n",
    "            d_recur(2*n_idx+1, ser),\n",
    "            d_recur(2*n_idx+2, ser)\n",
    "        )\n",
    "    except KeyError:\n",
    "        return None"
   ]
  },
  {
   "cell_type": "code",
   "execution_count": 6,
   "metadata": {},
   "outputs": [],
   "source": [
    "def deserialize(s):\n",
    "    return d_recur(0, json.loads(s))"
   ]
  },
  {
   "cell_type": "markdown",
   "metadata": {},
   "source": [
    "The following test should pass:"
   ]
  },
  {
   "cell_type": "code",
   "execution_count": 7,
   "metadata": {},
   "outputs": [],
   "source": [
    "node = Node('root', Node('left', Node('left.left')), Node('right'))\n",
    "assert deserialize(serialize(node)).left.left.val == 'left.left'"
   ]
  },
  {
   "cell_type": "markdown",
   "metadata": {},
   "source": [
    "Further messing around to check everything works as I expect:"
   ]
  },
  {
   "cell_type": "code",
   "execution_count": 8,
   "metadata": {},
   "outputs": [
    {
     "name": "stdout",
     "output_type": "stream",
     "text": [
      "{\"0\": \"root\", \"1\": \"left\", \"2\": \"right\", \"3\": \"left.left\", \"4\": null, \"7\": null, \"8\": null, \"5\": null, \"6\": null}\n"
     ]
    }
   ],
   "source": [
    "print(serialize(node))"
   ]
  },
  {
   "cell_type": "code",
   "execution_count": 9,
   "metadata": {},
   "outputs": [],
   "source": [
    "test = '{\"0\": \"root\", \"1\": \"left\", \"2\": \"right\", \"3\": \"left.left\", \"4\": null, \"7\": null, \"8\": null, \"5\": null, \"6\": null}'\n",
    "test_node = deserialize(test)"
   ]
  },
  {
   "cell_type": "code",
   "execution_count": 10,
   "metadata": {},
   "outputs": [],
   "source": [
    "test_node.right.left.val"
   ]
  },
  {
   "cell_type": "code",
   "execution_count": 11,
   "metadata": {},
   "outputs": [],
   "source": [
    "test_node.right.right.val"
   ]
  },
  {
   "cell_type": "code",
   "execution_count": 12,
   "metadata": {},
   "outputs": [
    {
     "data": {
      "text/plain": [
       "'left'"
      ]
     },
     "execution_count": 12,
     "metadata": {},
     "output_type": "execute_result"
    }
   ],
   "source": [
    "test_node.left.val"
   ]
  }
 ],
 "metadata": {
  "kernelspec": {
   "display_name": "Python 3",
   "language": "python",
   "name": "python3"
  },
  "language_info": {
   "codemirror_mode": {
    "name": "ipython",
    "version": 3
   },
   "file_extension": ".py",
   "mimetype": "text/x-python",
   "name": "python",
   "nbconvert_exporter": "python",
   "pygments_lexer": "ipython3",
   "version": "3.7.1"
  }
 },
 "nbformat": 4,
 "nbformat_minor": 2
}
