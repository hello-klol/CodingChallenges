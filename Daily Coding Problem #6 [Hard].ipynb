{
 "cells": [
  {
   "cell_type": "markdown",
   "metadata": {},
   "source": [
    "<blockquote>\n",
    "    <p>\n",
    "    This problem was asked by Google.\n",
    "    </p>\n",
    "    <p>\n",
    "An XOR linked list is a more memory efficient doubly linked list. Instead of each node holding next and prev fields, it holds a field named both, which is an XOR of the next node and the previous node. Implement an XOR linked list; it has an <code>add(element)</code> which adds the element to the end, and a <code>get(index)</code> which returns the node at index.\n",
    "    </p>\n",
    "    <p>\n",
    "If using a language that has no pointers (such as Python), you can assume you have access to <code>get_pointer</code> and <code>dereference_pointer</code> functions that converts between nodes and memory addresses.\n",
    "    </p>\n",
    "</blockquote>"
   ]
  },
  {
   "cell_type": "markdown",
   "metadata": {},
   "source": [
    "I used [this website](https://www.geeksforgeeks.org/xor-linked-list-a-memory-efficient-doubly-linked-list-set-1/) as a definition reference to get started."
   ]
  },
  {
   "cell_type": "markdown",
   "metadata": {},
   "source": [
    "**Reminder to myself :** in Python `^` is the XOR operator and `**` is the operator for squaring a number."
   ]
  },
  {
   "cell_type": "markdown",
   "metadata": {},
   "source": [
    "First we need a `Node` class that will hold a piece of data and a single address which is the XOR of the next and previous nodes:"
   ]
  },
  {
   "cell_type": "code",
   "execution_count": 1,
   "metadata": {},
   "outputs": [],
   "source": [
    "class Node():\n",
    "    \n",
    "    def __init__(self, data, p, n): # p = prev, n = next\n",
    "        self.data = data\n",
    "        self.npx = p ^ n # bitwise XOR of next and previous node\n",
    "        "
   ]
  },
  {
   "cell_type": "markdown",
   "metadata": {},
   "source": [
    "Now we can implement an XOR linked list of these nodes. Python doesn't use pointers so we'll simulate this by creating a dictionary of object `id`s to in-memory objects.\n",
    "\n",
    "We initalise with a single node and head and tail values of 0, then as each new node is added we update the lists tail to point to the new node.\n",
    "\n",
    "A `for_each` function has been added to the list to allow for interaction with the list such as printing every item value."
   ]
  },
  {
   "cell_type": "code",
   "execution_count": 2,
   "metadata": {},
   "outputs": [],
   "source": [
    "class XORLinkedList():\n",
    "\n",
    "    def __init__(self, init_element):\n",
    "        # id_map to simulate object pointer values\n",
    "        self.id_map = dict()\n",
    "        \n",
    "        node = Node(init_element, 0, 0)\n",
    "        \n",
    "        self.id_map[self.get_pointer(node)] = node\n",
    "        self.head = self.get_pointer(node)\n",
    "        self.tail = self.get_pointer(node)\n",
    "    \n",
    "    def get_pointer(self, element):\n",
    "        if element is None:\n",
    "            return 0\n",
    "        return id(element)\n",
    "    \n",
    "    def deref_pointer(self, pointer):\n",
    "        return self.id_map[pointer];\n",
    "    \n",
    "    def add(self, element):\n",
    "        prev_pointer = self.tail # prev\n",
    "        next_pointer = 0         # next   \n",
    "        \n",
    "        node = Node(element, prev_pointer, next_pointer)\n",
    "        \n",
    "        node_pointer = self.get_pointer(node)\n",
    "        self.id_map[node_pointer] = node\n",
    "\n",
    "        prev_node = self.deref_pointer(prev_pointer)      \n",
    "        prev_node.npx = prev_node.npx ^ node_pointer # !! THE XOR OPERATION - update prev tail to now have next\n",
    "        \n",
    "        self.tail = node_pointer\n",
    "        \n",
    "    def for_each(self, fn):\n",
    "        def recurse_list(prev_pointer, current_pointer):\n",
    "            current_item = self.deref_pointer(current_pointer)\n",
    "            fn(current_item.data)\n",
    "                \n",
    "            next_pointer = current_item.npx ^ prev_pointer\n",
    "        \n",
    "            if next_pointer == 0:\n",
    "                return\n",
    "        \n",
    "            return recurse_list(current_pointer, next_pointer)\n",
    "        \n",
    "        return recurse_list(0, self.head)"
   ]
  },
  {
   "cell_type": "markdown",
   "metadata": {},
   "source": [
    "Now let's test it out, first we can implement a new list:"
   ]
  },
  {
   "cell_type": "code",
   "execution_count": 3,
   "metadata": {},
   "outputs": [],
   "source": [
    "l = XORLinkedList(\"Juan\")\n",
    "l.add(\"Too\")\n",
    "l.add(\"Tree\")\n",
    "l.add(\"Fore\")"
   ]
  },
  {
   "cell_type": "markdown",
   "metadata": {},
   "source": [
    "Now we can print every value to check it worked:"
   ]
  },
  {
   "cell_type": "code",
   "execution_count": 4,
   "metadata": {},
   "outputs": [
    {
     "name": "stdout",
     "output_type": "stream",
     "text": [
      "Juan\n",
      "Too\n",
      "Tree\n",
      "Fore\n"
     ]
    }
   ],
   "source": [
    "l.for_each(print)"
   ]
  },
  {
   "cell_type": "markdown",
   "metadata": {},
   "source": [
    "The `for_each` function can take any function so is flexible:"
   ]
  },
  {
   "cell_type": "code",
   "execution_count": 5,
   "metadata": {},
   "outputs": [
    {
     "name": "stdout",
     "output_type": "stream",
     "text": [
      "1\n",
      "4\n",
      "9\n",
      "16\n"
     ]
    }
   ],
   "source": [
    "m = XORLinkedList(1)\n",
    "m.add(2)\n",
    "m.add(3)\n",
    "m.add(4)\n",
    "\n",
    "m.for_each(lambda x: print(x**2))"
   ]
  }
 ],
 "metadata": {
  "kernelspec": {
   "display_name": "Python 3",
   "language": "python",
   "name": "python3"
  },
  "language_info": {
   "codemirror_mode": {
    "name": "ipython",
    "version": 3
   },
   "file_extension": ".py",
   "mimetype": "text/x-python",
   "name": "python",
   "nbconvert_exporter": "python",
   "pygments_lexer": "ipython3",
   "version": "3.7.1"
  }
 },
 "nbformat": 4,
 "nbformat_minor": 2
}
