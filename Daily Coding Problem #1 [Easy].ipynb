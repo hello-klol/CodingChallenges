{
 "cells": [
  {
   "cell_type": "markdown",
   "metadata": {},
   "source": [
    "<blockquote>\n",
    "    <p>\n",
    "This problem was recently asked by Google.\n",
    "    </p>\n",
    "    <p>\n",
    "Given a list of numbers and a number k, return whether any two numbers from the list add up to k.\n",
    "    </p>\n",
    "    <p>\n",
    "For example, given [10, 15, 3, 7] and k of 17, return true since 10 + 7 is 17.\n",
    "    </p>\n",
    "    <p>\n",
    "Bonus: Can you do this in one pass?\n",
    "    </p>\n",
    "    </blockquote>"
   ]
  },
  {
   "cell_type": "code",
   "execution_count": 1,
   "metadata": {},
   "outputs": [],
   "source": [
    "example_list = [10, 15, 9, 9]\n",
    "k = 18\n",
    "sample_size = 2"
   ]
  },
  {
   "cell_type": "code",
   "execution_count": 2,
   "metadata": {},
   "outputs": [
    {
     "name": "stdout",
     "output_type": "stream",
     "text": [
      "True\n"
     ]
    }
   ],
   "source": [
    "from itertools import combinations\n",
    "\n",
    "def equal_to(size):\n",
    "    return lambda x: x==size\n",
    "\n",
    "def element_sums_to_k(my_list, k, comb_len=2):\n",
    "    all_combinations = combinations(my_list, comb_len)\n",
    "    sums_of_combinations = map(sum, all_combinations)\n",
    "    equal_to_k = filter(equal_to(k), sums_of_combinations)\n",
    "    return len(list(equal_to_k))>0\n",
    "\n",
    "print(element_sums_to_k(example_list, k, sample_size))"
   ]
  },
  {
   "cell_type": "markdown",
   "metadata": {},
   "source": [
    "The bonus questions requires use of a `set` object in Python which allows us to track ints we have already seen and perform lookup with $O(1)$:"
   ]
  },
  {
   "cell_type": "code",
   "execution_count": 3,
   "metadata": {},
   "outputs": [],
   "source": [
    "def adds_to_k(my_list, k):\n",
    "    already_seen = set()\n",
    "    \n",
    "    for n in my_list:\n",
    "        if k-n in already_seen:\n",
    "            return True\n",
    "        already_seen.add(n)\n",
    "    \n",
    "    return False"
   ]
  },
  {
   "cell_type": "code",
   "execution_count": 4,
   "metadata": {},
   "outputs": [
    {
     "data": {
      "text/plain": [
       "True"
      ]
     },
     "execution_count": 4,
     "metadata": {},
     "output_type": "execute_result"
    }
   ],
   "source": [
    "adds_to_k(example_list, k)"
   ]
  }
 ],
 "metadata": {
  "kernelspec": {
   "display_name": "Python 3",
   "language": "python",
   "name": "python3"
  },
  "language_info": {
   "codemirror_mode": {
    "name": "ipython",
    "version": 3
   },
   "file_extension": ".py",
   "mimetype": "text/x-python",
   "name": "python",
   "nbconvert_exporter": "python",
   "pygments_lexer": "ipython3",
   "version": "3.7.1"
  }
 },
 "nbformat": 4,
 "nbformat_minor": 2
}
