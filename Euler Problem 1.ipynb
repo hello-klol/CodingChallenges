{
 "cells": [
  {
   "cell_type": "markdown",
   "metadata": {},
   "source": [
    "# Multiples of 3 and 5"
   ]
  },
  {
   "cell_type": "markdown",
   "metadata": {},
   "source": [
    "<blockquote>If we list all the natural numbers below 10 that are multiples of 3 or 5, we get 3, 5, 6 and 9. The sum of these multiples is 23.\n",
    "\n",
    "Find the sum of all the multiples of 3 or 5 below 1000.</blockquote>"
   ]
  },
  {
   "cell_type": "markdown",
   "metadata": {},
   "source": [
    "### Note\n",
    "\n",
    "My goal is not necessarily to write the most efficient way of solving this problem, but instead the most readable and reusable way within reason."
   ]
  },
  {
   "cell_type": "code",
   "execution_count": 1,
   "metadata": {},
   "outputs": [],
   "source": [
    "from functools import reduce"
   ]
  },
  {
   "cell_type": "markdown",
   "metadata": {},
   "source": [
    "### Method 1:\n",
    "Filtering a collection of numbers"
   ]
  },
  {
   "cell_type": "code",
   "execution_count": 2,
   "metadata": {},
   "outputs": [
    {
     "name": "stdout",
     "output_type": "stream",
     "text": [
      "{20, 22, 24, 25, 26, 28, 30, 32, 33, 34, 35, 36, 38, 40, 42, 44, 45, 46, 48, 50, 52, 54, 55, 56, 58, 60, 62, 64, 65, 66, 68, 70, 72, 74, 75, 76, 77, 78, 80, 82, 84, 85, 86, 88, 90, 92, 94, 95, 96, 98, 99}\n"
     ]
    }
   ],
   "source": [
    "def is_multiple_filter(y): \n",
    "    return lambda x: x%y is 0\n",
    "\n",
    "\n",
    "def filter_by_multiplers(my_collection, my_multipliers):\n",
    "    \n",
    "    # Create a list of lambda filters to apply for each multiplier\n",
    "    filters = map(is_multiple_filter, my_multipliers)\n",
    "    \n",
    "    # Apply each filter to the collection\n",
    "    results = [set(filter(l, my_collection)) for l in filters]\n",
    "    \n",
    "    # Return a set of the union of results\n",
    "    return reduce(lambda s,u: s.union(u), results)\n",
    "\n",
    "\n",
    "my_set = range(20,100)\n",
    "my_multipliers = [2,5,11]\n",
    "print(filter_by_multiplers(my_set, my_multipliers))"
   ]
  },
  {
   "cell_type": "markdown",
   "metadata": {},
   "source": [
    "Now we just sum the set returned by our filter"
   ]
  },
  {
   "cell_type": "code",
   "execution_count": 3,
   "metadata": {},
   "outputs": [
    {
     "data": {
      "text/plain": [
       "234168"
      ]
     },
     "execution_count": 3,
     "metadata": {},
     "output_type": "execute_result"
    }
   ],
   "source": [
    "my_set = range(1001) \n",
    "my_multipliers = [3,5]\n",
    "sum(filter_by_multiplers(my_set, my_multipliers))"
   ]
  },
  {
   "cell_type": "markdown",
   "metadata": {},
   "source": [
    "For the case of filtering a number set and performing summation this task works well with `lambda`s and `filter`s. Since the main problem is filtering the input collection by a set of multipliers, we can generate a set of lambdas of the same form to perform this check."
   ]
  },
  {
   "cell_type": "markdown",
   "metadata": {},
   "source": [
    "This approach returns a filtered list for every multiplier before removing duplicates and then sums all numbers. We could be generating the numbers instead of filtering them."
   ]
  },
  {
   "cell_type": "markdown",
   "metadata": {},
   "source": [
    "### Method 2:\n",
    "Generating a list of numbers "
   ]
  },
  {
   "cell_type": "code",
   "execution_count": 4,
   "metadata": {},
   "outputs": [
    {
     "name": "stdout",
     "output_type": "stream",
     "text": [
      "{20, 22, 24, 25, 26, 28, 30, 31, 32, 34, 35, 36, 38, 40, 42, 44, 45, 46, 48, 50, 52, 53, 54, 55, 56, 58, 60, 62, 64, 65, 66, 68, 70, 72, 74, 75, 76, 78, 80, 82, 84, 85, 86, 88, 90, 92, 94, 95, 96, 97, 98, 100}\n"
     ]
    }
   ],
   "source": [
    "min_value = 20\n",
    "max_value = 100\n",
    "my_multipliers = [2,5,11]\n",
    "\n",
    "\n",
    "def set_generator(min_value, max_value):\n",
    "    return lambda m: {*range(max(min_value, m), max_value+1, m)}\n",
    "\n",
    "\n",
    "def generate_by_multipliers(min_value, max_value, multipliers):\n",
    "    \n",
    "    # First we create a lambda with our max and min values that can take any multiplier\n",
    "    set_gen = set_generator(min_value, max_value)\n",
    "    \n",
    "    # Now we can map our multiplers to sets in our range with our lambda function\n",
    "    all_sets = map(set_gen, multipliers)\n",
    "    \n",
    "    # Reduce all our sets into a single set\n",
    "    return reduce(lambda s,u: s.union(u), all_sets)\n",
    "\n",
    "\n",
    "print(generate_by_multipliers(min_value, max_value, my_multipliers))"
   ]
  },
  {
   "cell_type": "markdown",
   "metadata": {},
   "source": [
    "The above takes advantage of `map` and `reduce` functions in Python which is lazy loaded using generators."
   ]
  },
  {
   "cell_type": "code",
   "execution_count": 5,
   "metadata": {},
   "outputs": [
    {
     "data": {
      "text/plain": [
       "234168"
      ]
     },
     "execution_count": 5,
     "metadata": {},
     "output_type": "execute_result"
    }
   ],
   "source": [
    "sum(generate_by_multipliers(1, 1000, [3,5]))"
   ]
  },
  {
   "cell_type": "code",
   "execution_count": null,
   "metadata": {},
   "outputs": [],
   "source": []
  }
 ],
 "metadata": {
  "kernelspec": {
   "display_name": "Python 3",
   "language": "python",
   "name": "python3"
  },
  "language_info": {
   "codemirror_mode": {
    "name": "ipython",
    "version": 3
   },
   "file_extension": ".py",
   "mimetype": "text/x-python",
   "name": "python",
   "nbconvert_exporter": "python",
   "pygments_lexer": "ipython3",
   "version": "3.7.1"
  }
 },
 "nbformat": 4,
 "nbformat_minor": 2
}
