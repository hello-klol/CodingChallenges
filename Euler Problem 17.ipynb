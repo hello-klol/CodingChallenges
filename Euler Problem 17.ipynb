{
 "cells": [
  {
   "cell_type": "markdown",
   "metadata": {},
   "source": [
    "### Number letter counts"
   ]
  },
  {
   "cell_type": "markdown",
   "metadata": {},
   "source": [
    "<blockquote>\n",
    "    <p>\n",
    "If the numbers 1 to 5 are written out in words: one, two, three, four, five, then there \n",
    "are 3 + 3 + 5 + 4 + 4 = 19 letters used in total.\n",
    "    </p>\n",
    "    <p>\n",
    "If all the numbers from 1 to 1000 (one thousand) inclusive were written out in words, \n",
    "how many letters would be used?\n",
    "    </p>\n",
    "    <p>\n",
    "NOTE: Do not count spaces or hyphens. For example, 342 (three hundred and forty-two) \n",
    "contains 23 letters and 115 (one hundred and fifteen) contains 20 letters. The use of \n",
    "\"and\" when writing out numbers is in compliance with British usage.\n",
    "    </p>\n",
    "</blockquote>"
   ]
  },
  {
   "cell_type": "markdown",
   "metadata": {},
   "source": [
    "First define some static string definitions to be used:"
   ]
  },
  {
   "cell_type": "code",
   "execution_count": 1,
   "metadata": {},
   "outputs": [],
   "source": [
    "under20 = ['','one','two','three','four','five','six','seven','eight','nine',\n",
    "   'ten','eleven','twelve','thirteen','fourteen','fifteen','sixteen','seventeen',\n",
    "           'eighteen','nineteen']\n",
    "tenths = ['', '', 'twenty','thirty','forty','fifty','sixty','seventy','eighty','ninety']\n",
    "hundred = 'hundred'\n",
    "thousand = 'thousand'\n",
    "and_str = 'and'"
   ]
  },
  {
   "cell_type": "markdown",
   "metadata": {},
   "source": [
    "The below number generator takes advantage of overloading of the `+` operator in Python allowing us to concatenate strings or perform addition on integers. This allows us to either use string lengths to generate the solution to the problem, or we can also print out every string for the numbers 1-9999 (see examples of use below)."
   ]
  },
  {
   "cell_type": "code",
   "execution_count": 4,
   "metadata": {},
   "outputs": [],
   "source": [
    "import math\n",
    "\n",
    "class NumberGenerator:\n",
    "    \n",
    "    def __init__(self, under20, tenths, hundred, thousand, and_value):\n",
    "        self.under20 = under20\n",
    "        self.tenths = tenths\n",
    "        self.hundred = hundred\n",
    "        self.thousand = thousand\n",
    "        self.and_value = and_value\n",
    "        \n",
    "    def get_number(self, i):\n",
    "        \n",
    "        if not isinstance(i, int):\n",
    "            raise ValueError('Expected int. Value given was: {}'.format(i))\n",
    "            \n",
    "        if i<0:\n",
    "            raise ValueError('Cannot be used with negative numbers. Value given was: {:,}'.format(i))\n",
    "            \n",
    "        if i>=100000:\n",
    "            raise ValueError('Cannot be used with numbers greater than 10,000. Value given was: {:,}'.format(i))\n",
    "        \n",
    "        elif i<20:\n",
    "            return self.under20[i]\n",
    "\n",
    "        elif i<100:\n",
    "            return self.tenths[math.floor(i/10)] + self.get_number(i%10)\n",
    "\n",
    "        elif i<1000:\n",
    "            hundreds = self.get_number(math.floor(i/100)) + self.hundred \n",
    "            # Case: \"four hundred\", not \"four hundred and ...\" \n",
    "            if i%100 is 0:\n",
    "                return hundreds\n",
    "            return hundreds + self.and_value + self.get_number(i%100) \n",
    "\n",
    "        else:\n",
    "            return self.get_number(math.floor(i/1000)) + self.thousand + self.get_number(i%1000)"
   ]
  },
  {
   "cell_type": "markdown",
   "metadata": {},
   "source": [
    "The main function of the class is designed to fail-fast, throwing clearly described error messages for easy debugging."
   ]
  },
  {
   "cell_type": "markdown",
   "metadata": {},
   "source": [
    "To use the class to generate the length of the string map each list of words to a list of lengths then use the NumberGenerator"
   ]
  },
  {
   "cell_type": "code",
   "execution_count": 5,
   "metadata": {},
   "outputs": [
    {
     "name": "stdout",
     "output_type": "stream",
     "text": [
      "21124\n"
     ]
    }
   ],
   "source": [
    "number_chars = NumberGenerator( \n",
    "    list(map(len, under20)), \n",
    "    list(map(len, tenths)), \n",
    "    len(hundred), \n",
    "    len(thousand), \n",
    "    len(and_str)\n",
    ")\n",
    "solution = sum(number_chars.get_number(n) for n in range(1,1001))\n",
    "print(solution)"
   ]
  },
  {
   "cell_type": "markdown",
   "metadata": {},
   "source": [
    "To use the class to generate strings for any int, initiate it with the arrays of strings. E.g."
   ]
  },
  {
   "cell_type": "code",
   "execution_count": 6,
   "metadata": {},
   "outputs": [
    {
     "name": "stdout",
     "output_type": "stream",
     "text": [
      "twentyonethousandonehundredandtwentyfour\n"
     ]
    }
   ],
   "source": [
    "number_strings = NumberGenerator( \n",
    "    under20, \n",
    "    tenths, \n",
    "    hundred, \n",
    "    thousand, \n",
    "    and_str\n",
    ")\n",
    "print(number_strings.get_number(21124))"
   ]
  }
 ],
 "metadata": {
  "kernelspec": {
   "display_name": "Python 3",
   "language": "python",
   "name": "python3"
  },
  "language_info": {
   "codemirror_mode": {
    "name": "ipython",
    "version": 3
   },
   "file_extension": ".py",
   "mimetype": "text/x-python",
   "name": "python",
   "nbconvert_exporter": "python",
   "pygments_lexer": "ipython3",
   "version": "3.7.1"
  }
 },
 "nbformat": 4,
 "nbformat_minor": 2
}
